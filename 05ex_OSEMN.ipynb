{
 "cells": [
  {
   "cell_type": "markdown",
   "metadata": {},
   "source": [
    "# OSEMN Exercises"
   ]
  },
  {
   "cell_type": "code",
   "execution_count": 1,
   "metadata": {},
   "outputs": [],
   "source": [
    "%matplotlib inline\n",
    "import pandas as pd\n",
    "import numpy as np"
   ]
  },
  {
   "cell_type": "markdown",
   "metadata": {},
   "source": [
    "1\\. Create a random list of number and then save it to a text file named \"simple_data.txt\""
   ]
  },
  {
   "cell_type": "code",
   "execution_count": 4,
   "metadata": {},
   "outputs": [],
   "source": [
    "# Create data\n",
    "data_rndm = np.random.randn(100)\n",
    "# Save to file\n",
    "f_name = 'simple_data.txt'\n",
    "np.savetxt(f_name, data_rndm)"
   ]
  },
  {
   "cell_type": "markdown",
   "metadata": {},
   "source": [
    "2\\. Create a random matrix of 5x5 and then save it to a text file named \"data.txt\""
   ]
  },
  {
   "cell_type": "code",
   "execution_count": 7,
   "metadata": {},
   "outputs": [],
   "source": [
    "# Create data\n",
    "data_rndm = np.random.randn(5, 5)\n",
    "# Save to file \n",
    "f_name = 'data.txt'\n",
    "np.savetxt(f_name, data_rndm)"
   ]
  },
  {
   "cell_type": "markdown",
   "metadata": {},
   "source": [
    "3\\. Load the saved txt file of point 2 and convert it to a csv file (by hand)"
   ]
  },
  {
   "cell_type": "code",
   "execution_count": 12,
   "metadata": {},
   "outputs": [],
   "source": [
    "# Load the file\n",
    "data_file = open('data.txt', 'r')\n",
    "# Open empty csv file\n",
    "data_file_csv = open('data.csv', 'w')\n",
    "# Transform the data into csv format\n",
    "for line in data_file.readlines():\n",
    "    data_file_csv.write(line.replace(' ',','))\n",
    "# Close both files \n",
    "data_file.close()\n",
    "data_file_csv.close()"
   ]
  },
  {
   "cell_type": "markdown",
   "metadata": {},
   "source": [
    "4\\. load the binary file named *credit_card.dat* and convert the data into the real credit-card number.\n",
    "Each line correspond to a credit card number.\n",
    "Each character is composed by 6 bit (even the space) and the last 4 bit are just a padding\n",
    "\n",
    "**hint**: use the `chr()` function to convert a number to a char"
   ]
  },
  {
   "cell_type": "code",
   "execution_count": 68,
   "metadata": {},
   "outputs": [
    {
     "name": "stdout",
     "output_type": "stream",
     "text": [
      "['7648 5673 3775 2271', '3257 8247 3354 2266', '2722 0001 4011 6652', '0661 3063 3742 3150', '0432 1608 1462 4742', '5827 2027 8785 7303', '5774 8528 2087 1117', '8140 1210 6352 2845', '5764 1133 7301 7100', '6456 1737 4126 6726', '1228 8631 7382 0000', '7051 0160 5374 3166', '0618 3587 1630 6376', '1545 5454 7444 5636', '6735 3116 3202 6834', '7287 5011 1547 8413', '7033 2607 3328 4200', '2568 5244 1874 5024', '1684 2253 7570 7118', '0672 2576 0575 6631', '6332 8353 8787 1340', '1813 3361 1175 4211', '2477 6450 8840 2368', '5512 3505 2563 1326', '3083 7882 0621 0025', '4521 5148 8045 0334', '7563 3654 8713 5787', '8324 2664 0476 5561', '0565 2504 7168 3510', '5107 5507 1767 0738', '2462 1821 2448 1443', '2788 0638 6861 6554', '5851 5873 5474 0547', '0670 1004 4013 2655', '5874 5506 3048 0806', '2805 5401 8462 1260', '5083 8406 6310 1862', '1076 1445 3013 2266', '8440 4804 4844 5277', '4758 6141 0686 1387', '7586 0675 0315 2568', '2544 1258 7432 5165', '3474 5023 4434 5626', '1410 0270 0434 5086', '7315 4446 1104 4215', '0224 7742 8300 0266', '0170 2700 3145 0640', '2006 2437 8054 1600', '8142 4055 1776 0026', '3026 7380 1241 1084']\n"
     ]
    }
   ],
   "source": [
    "# Load data\n",
    "credit_card_data = open('credit_card.dat')\n",
    "# Store credit card numbers in a list\n",
    "credit_card_nums = []\n",
    "for line in credit_card_data.readlines():\n",
    "    line = line.replace('\\n', '')\n",
    "    nums = np.array(list(line[:-4]))\n",
    "    nums = np.reshape(nums, (len(nums)//6, 6))\n",
    "    \n",
    "    char_line = ''\n",
    "    for i in range(nums.shape[0]):\n",
    "        char_line += chr(int(''.join(list(nums[i,:])), base=2))\n",
    "        \n",
    "    # If there is no number just skip ahead\n",
    "    if char_line == '':\n",
    "        continue\n",
    "        \n",
    "    # Otherwise we save the number\n",
    "    credit_card_nums.append(char_line)\n",
    "    \n",
    "# Print credit card numbers\n",
    "print(credit_card_nums)\n",
    "# Close file\n",
    "credit_card_data.close()"
   ]
  },
  {
   "cell_type": "markdown",
   "metadata": {},
   "source": [
    "5\\. Load the file \"user_data.json\", filter the data by the \"CreditCardType\" field equals to \"American Express\". Than save the data a to CSV."
   ]
  },
  {
   "cell_type": "code",
   "execution_count": 71,
   "metadata": {},
   "outputs": [],
   "source": [
    "# Import python's json module\n",
    "import json"
   ]
  },
  {
   "cell_type": "code",
   "execution_count": 96,
   "metadata": {},
   "outputs": [],
   "source": [
    "# Load data\n",
    "user_file = open('user_data.json', 'r')\n",
    "user_data = json.load(user_file)\n",
    "AM_Express_users = []\n",
    "for user in user_data:\n",
    "    if user['CreditCardType'] == 'American Express':\n",
    "        AM_Express_users.append(user)\n",
    "        \n",
    "# Now we save the AM Express users to a csv\n",
    "am_express_file = open('AM_Express_users.csv', 'w')\n",
    "\n",
    "# Define and write header to file\n",
    "header = ','.join(list(AM_Express_users[0].keys()))\n",
    "file_str = header + '\\n'\n",
    "\n",
    "# Iterate over the users and save data to the file str\n",
    "for i, user in enumerate(AM_Express_users):\n",
    "    file_str += ','.join(list(user.values())) \n",
    "    if i != len(AM_Express_users) - 1:\n",
    "        file_str += '\\n'\n",
    "\n",
    "# Write filtered users to file\n",
    "am_express_file.write(file_str)\n",
    "\n",
    "# Close files\n",
    "user_file.close()\n",
    "am_express_file.close()"
   ]
  },
  {
   "cell_type": "markdown",
   "metadata": {},
   "source": [
    "6\\. Load the file from this url: [https://www.dropbox.com/s/7u3lm737ogbqsg8/mushrooms_categorized.csv?dl=1](https://www.dropbox.com/s/7u3lm737ogbqsg8/mushrooms_categorized.csv?dl=1) with Pandas. \n",
    "+ Explore the data (see the info of the data)\n",
    "+ Draw the istogram of the 'class' field. Decribe wath yuou see\n"
   ]
  },
  {
   "cell_type": "markdown",
   "metadata": {},
   "source": [
    "7\\. Load the remote file [https://www.dropbox.com/s/vkl89yce7xjdq4n/regression_generated.csv?dl=1](https://www.dropbox.com/s/vkl89yce7xjdq4n/regression_generated.csv?dl=1) with Pandas and plot a scatter plot all possible combination of the following fields:\n",
    "    \n",
    "  + features_1\n",
    "  + features_2\n",
    "  + features_3"
   ]
  },
  {
   "cell_type": "markdown",
   "metadata": {},
   "source": [
    "8\\. Load the same file of point 6, and convert the file to json with Pandas."
   ]
  }
 ],
 "metadata": {
  "kernelspec": {
   "display_name": "Python 3",
   "language": "python",
   "name": "python3"
  },
  "language_info": {
   "codemirror_mode": {
    "name": "ipython",
    "version": 3
   },
   "file_extension": ".py",
   "mimetype": "text/x-python",
   "name": "python",
   "nbconvert_exporter": "python",
   "pygments_lexer": "ipython3",
   "version": "3.8.8"
  }
 },
 "nbformat": 4,
 "nbformat_minor": 2
}
