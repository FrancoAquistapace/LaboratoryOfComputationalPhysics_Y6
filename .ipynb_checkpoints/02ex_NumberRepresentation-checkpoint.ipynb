{
 "cells": [
  {
   "cell_type": "markdown",
   "metadata": {},
   "source": [
    "1\\. Write a function that converts number representation, bin<->dec<->hex. (Clearly using the corresponding python built-in functions is not fair..)"
   ]
  },
  {
   "cell_type": "code",
   "execution_count": 218,
   "metadata": {},
   "outputs": [],
   "source": [
    "# Let's write the function. To do this without\n",
    "# using built in functions, we're going to require\n",
    "\n",
    "def change_rep(x, in_rep, out_rep):\n",
    "    '''\n",
    "    Params:\n",
    "        x : str or int\n",
    "            Number to be transformed from representation\n",
    "            in_rep to representation out_rep.\n",
    "        in_rep : str\n",
    "            Input representation, can be one of: \"dec\",\n",
    "            \"bin\" or \"hex\".\n",
    "        out_rep : str\n",
    "            Output representaton, can be one of: \"dec\",\n",
    "            \"bin\" or \"hex\".\n",
    "    Output:\n",
    "        Returns the number x as a string in the representation \n",
    "        out_rep, from its original representation in_rep.\n",
    "    '''\n",
    "    # Define allowed types and their alphabets\n",
    "    allowed = {'bin':['0','1'], \n",
    "               'dec':[str(i) for i in range(10)], \n",
    "               'hex':['0','1','2','3','4','5','6','7','8','9',\n",
    "                      'A','B','C','D','E','F']}\n",
    "    # Check that both in_rep and out_rep are allowed\n",
    "    if (not in_rep in allowed) or (not out_rep in allowed):\n",
    "        print(\"Error: Both in_rep and out_rep\"+\\\n",
    "              \" must be one of the following:\\n%s\" % list(allowed))\n",
    "        return None\n",
    "    \n",
    "    # Check that the given number has symbols that match\n",
    "    # the alphabet of the input representation\n",
    "    x_check = str(x)\n",
    "    for c in x_check:\n",
    "        if not c in allowed[in_rep]:\n",
    "            print('Error: x has symbols that are'+\\\n",
    "                    ' not contained in the \"%s\" alphabet.' % in_rep)\n",
    "            return None\n",
    "    \n",
    "    # If in_rep and out_rep are the same, \n",
    "    # simply return x as is\n",
    "    if in_rep == out_rep:\n",
    "        return str(x)\n",
    "    \n",
    "    # Now let's work on the general cases where \n",
    "    # one of the reps is 'dec'\n",
    "    elif in_rep in allowed and out_rep == 'dec':\n",
    "        mod = len(allowed[in_rep])\n",
    "        x = str(x)\n",
    "        new_x = 0\n",
    "        for i in range(len(x)):\n",
    "            new_x += (mod**i)*int(allowed[in_rep].index(x[len(x) - 1 - i]))\n",
    "        return str(new_x)\n",
    "    \n",
    "    elif in_rep == 'dec' and out_rep in allowed:\n",
    "        mod = len(allowed[out_rep])\n",
    "        new_x = ''\n",
    "        rem = int(x)\n",
    "        # Find representation\n",
    "        done = False\n",
    "        while not done:\n",
    "            q = rem // mod\n",
    "            r = rem % mod\n",
    "            new_x += str(allowed[out_rep][r]) \n",
    "            rem = q\n",
    "            if q == 0:\n",
    "                done = True\n",
    "        \n",
    "        # Reorder result and return as str\n",
    "        new_x = list(new_x)\n",
    "        new_x.reverse()\n",
    "        return ''.join(new_x)\n",
    "    \n",
    "    # Finally, to go from one non-dec system to another\n",
    "    # non-dec system, we can use the 'dec' system as\n",
    "    # an intermediate step\n",
    "    elif in_rep != 'dec' and out_rep != 'dec':\n",
    "        # Go from in_rep to 'dec'\n",
    "        dec_x = change_rep(x, in_rep, 'dec')\n",
    "        # Go from 'dec' to out_rep\n",
    "        return change_rep(dec_x, 'dec', out_rep)"
   ]
  },
  {
   "cell_type": "code",
   "execution_count": 219,
   "metadata": {},
   "outputs": [
    {
     "data": {
      "text/plain": [
       "'122'"
      ]
     },
     "execution_count": 219,
     "metadata": {},
     "output_type": "execute_result"
    }
   ],
   "source": [
    "change_rep('1111010', 'bin', 'dec')"
   ]
  },
  {
   "cell_type": "code",
   "execution_count": 220,
   "metadata": {},
   "outputs": [
    {
     "data": {
      "text/plain": [
       "'1111010'"
      ]
     },
     "execution_count": 220,
     "metadata": {},
     "output_type": "execute_result"
    }
   ],
   "source": [
    "change_rep('122', 'dec', 'bin')"
   ]
  },
  {
   "cell_type": "code",
   "execution_count": 221,
   "metadata": {},
   "outputs": [
    {
     "data": {
      "text/plain": [
       "'7A'"
      ]
     },
     "execution_count": 221,
     "metadata": {},
     "output_type": "execute_result"
    }
   ],
   "source": [
    "change_rep('122', 'dec', 'hex')"
   ]
  },
  {
   "cell_type": "code",
   "execution_count": 222,
   "metadata": {},
   "outputs": [
    {
     "data": {
      "text/plain": [
       "'122'"
      ]
     },
     "execution_count": 222,
     "metadata": {},
     "output_type": "execute_result"
    }
   ],
   "source": [
    "change_rep('7A', 'hex', 'dec')"
   ]
  },
  {
   "cell_type": "code",
   "execution_count": 223,
   "metadata": {},
   "outputs": [
    {
     "data": {
      "text/plain": [
       "'1111010'"
      ]
     },
     "execution_count": 223,
     "metadata": {},
     "output_type": "execute_result"
    }
   ],
   "source": [
    "change_rep('7A', 'hex', 'bin')"
   ]
  },
  {
   "cell_type": "code",
   "execution_count": 224,
   "metadata": {},
   "outputs": [
    {
     "data": {
      "text/plain": [
       "'7A'"
      ]
     },
     "execution_count": 224,
     "metadata": {},
     "output_type": "execute_result"
    }
   ],
   "source": [
    "change_rep('1111010', 'bin', 'hex')"
   ]
  },
  {
   "cell_type": "code",
   "execution_count": 225,
   "metadata": {},
   "outputs": [
    {
     "data": {
      "text/plain": [
       "True"
      ]
     },
     "execution_count": 225,
     "metadata": {},
     "output_type": "execute_result"
    }
   ],
   "source": [
    "122 == 0b1111010 == 0x7A"
   ]
  },
  {
   "cell_type": "markdown",
   "metadata": {},
   "source": [
    "2\\. Write a function that converts a 32 bit word into a single precision floating point (i.e. interprets the various bits as sign, mantissa and exponent)"
   ]
  },
  {
   "cell_type": "code",
   "execution_count": 314,
   "metadata": {},
   "outputs": [],
   "source": [
    "# Let's write the function\n",
    "def single_precision_to_float(s):\n",
    "    '''\n",
    "    Params:\n",
    "        s : str\n",
    "            String containing the 32-bit float\n",
    "            representation of a number.\n",
    "    Output:\n",
    "        Returns the number encoded by s.\n",
    "    '''\n",
    "    # Check that there are 32 bits\n",
    "    if not len(s) == 32:\n",
    "        print('Error: input string must be of length 32.')\n",
    "        return None\n",
    "    # Split string into list of bits\n",
    "    s = list(s)\n",
    "    # Get sign\n",
    "    sign = (-1)**int(s[0])\n",
    "    # Get exponent, we can use our previous function\n",
    "    exp = 2**(int(change_rep(''.join(s[1:9]), 'bin', 'dec'))-127)\n",
    "    # Get fraction\n",
    "    frac = 1 + sum([int(s[9+i])*(2**(-i-1)) for i in range(23)])\n",
    "    return sign * exp * frac"
   ]
  },
  {
   "cell_type": "code",
   "execution_count": 315,
   "metadata": {},
   "outputs": [
    {
     "data": {
      "text/plain": [
       "0.15625"
      ]
     },
     "execution_count": 315,
     "metadata": {},
     "output_type": "execute_result"
    }
   ],
   "source": [
    "single_precision_to_float('00111110001000000000000000000000')"
   ]
  },
  {
   "cell_type": "markdown",
   "metadata": {},
   "source": [
    "3\\. Write a program to determine the underflow and overflow limits (within a factor of 2) for python on your computer. \n",
    "\n",
    "**Tips**: define two variables inizialized to 1 and halve/double them enough time to exceed the under/over-flow limits  "
   ]
  },
  {
   "cell_type": "markdown",
   "metadata": {},
   "source": [
    "4\\. Write a program to determine the machine precision\n",
    "\n",
    "**Tips**: define a new variable by adding a smaller and smaller value (proceeding similarly to prob. 2) to an original variable and check the point where the two are the same "
   ]
  },
  {
   "cell_type": "markdown",
   "metadata": {},
   "source": [
    "5\\. Write a function that takes in input three parameters $a$, $b$ and $c$ and prints out the two solutions to the quadratic equation $ax^2+bx+c=0$ using the standard formula:\n",
    "$$\n",
    "x=\\frac{-b\\pm\\sqrt{b^2-4ac}}{2a}\n",
    "$$\n",
    "\n",
    "(a) use the program to compute the solution for $a=0.001$, $b=1000$ and $c=0.001$\n",
    "\n",
    "(b) re-express the standard solution formula by multiplying top and bottom by $-b\\mp\\sqrt{b^2-4ac}$ and again find the solution for $a=0.001$, $b=1000$ and $c=0.001$. How does it compare with what previously obtained? Why?\n",
    "\n",
    "(c) write a function that compute the roots of a quadratic equation accurately in all cases"
   ]
  },
  {
   "cell_type": "markdown",
   "metadata": {},
   "source": [
    "6\\. Write a program that implements the function $f(x)=x(x−1)$\n",
    "\n",
    "(a) Calculate the derivative of the function at the point $x = 1$ using the derivative definition:\n",
    "\n",
    "$$\n",
    "\\frac{{\\rm d}f}{{\\rm d}x} = \\lim_{\\delta\\to0} \\frac{f(x+\\delta)-f(x)}{\\delta}\n",
    "$$\n",
    "\n",
    "with $\\delta = 10^{−2}$. Calculate the true value of the same derivative analytically and compare with the answer your program gives. The two will not agree perfectly. Why not?\n",
    "\n",
    "(b) Repeat the calculation for $\\delta = 10^{−4}, 10^{−6}, 10^{−8}, 10^{−10}, 10^{−12}$ and $10^{−14}$. How does the accuracy scales with $\\delta$?"
   ]
  },
  {
   "cell_type": "markdown",
   "metadata": {},
   "source": [
    "7\\. Consider the integral of the semicircle of radius 1:\n",
    "$$\n",
    "I=\\int_{-1}^{1} \\sqrt(1-x^2) {\\rm d}x\n",
    "$$\n",
    "which it's known to be $I=\\frac{\\pi}{2}=1.57079632679...$.\n",
    "Alternatively we can use the Riemann definition of the integral:\n",
    "$$\n",
    "I=\\lim_{N\\to\\infty} \\sum_{k=1}^{N} h y_k \n",
    "$$\n",
    "\n",
    "with $h=2/N$ the width of each of the $N$ slices the domain is divided into and where\n",
    "$y_k$ is the value of the function at the $k-$th slice.\n",
    "\n",
    "(a) Write a programe to compute the integral with $N=100$. How does the result compares to the true value?\n",
    "\n",
    "(b) How much can $N$ be increased if the computation needs to be run in less than a second? What is the gain in running it for 1 minute? \n"
   ]
  },
  {
   "cell_type": "code",
   "execution_count": null,
   "metadata": {},
   "outputs": [],
   "source": []
  }
 ],
 "metadata": {
  "kernelspec": {
   "display_name": "Python 3",
   "language": "python",
   "name": "python3"
  },
  "language_info": {
   "codemirror_mode": {
    "name": "ipython",
    "version": 3
   },
   "file_extension": ".py",
   "mimetype": "text/x-python",
   "name": "python",
   "nbconvert_exporter": "python",
   "pygments_lexer": "ipython3",
   "version": "3.8.8"
  }
 },
 "nbformat": 4,
 "nbformat_minor": 2
}
