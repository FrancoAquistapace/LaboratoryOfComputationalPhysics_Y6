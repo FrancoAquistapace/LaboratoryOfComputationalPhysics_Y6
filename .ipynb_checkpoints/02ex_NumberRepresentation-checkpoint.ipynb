{
 "cells": [
  {
   "cell_type": "markdown",
   "metadata": {},
   "source": [
    "1\\. Write a function that converts number representation, bin<->dec<->hex. (Clearly using the corresponding python built-in functions is not fair..)"
   ]
  },
  {
   "cell_type": "code",
   "execution_count": 1,
   "metadata": {},
   "outputs": [],
   "source": [
    "# Let's write the function. To do this without\n",
    "# using built in functions, we're going to require\n",
    "\n",
    "def change_rep(x, in_rep, out_rep):\n",
    "    '''\n",
    "    Params:\n",
    "        x : str or int\n",
    "            Number to be transformed from representation\n",
    "            in_rep to representation out_rep.\n",
    "        in_rep : str\n",
    "            Input representation, can be one of: \"dec\",\n",
    "            \"bin\" or \"hex\".\n",
    "        out_rep : str\n",
    "            Output representaton, can be one of: \"dec\",\n",
    "            \"bin\" or \"hex\".\n",
    "    Output:\n",
    "        Returns the number x as a string in the representation \n",
    "        out_rep, from its original representation in_rep.\n",
    "    '''\n",
    "    # Define allowed types and their alphabets\n",
    "    allowed = {'bin':['0','1'], \n",
    "               'dec':[str(i) for i in range(10)], \n",
    "               'hex':['0','1','2','3','4','5','6','7','8','9',\n",
    "                      'A','B','C','D','E','F']}\n",
    "    # Check that both in_rep and out_rep are allowed\n",
    "    if (not in_rep in allowed) or (not out_rep in allowed):\n",
    "        print(\"Error: Both in_rep and out_rep\"+\\\n",
    "              \" must be one of the following:\\n%s\" % list(allowed))\n",
    "        return None\n",
    "    \n",
    "    # Check that the given number has symbols that match\n",
    "    # the alphabet of the input representation\n",
    "    x_check = str(x)\n",
    "    for c in x_check:\n",
    "        if not c in allowed[in_rep]:\n",
    "            print('Error: x has symbols that are'+\\\n",
    "                    ' not contained in the \"%s\" alphabet.' % in_rep)\n",
    "            return None\n",
    "    \n",
    "    # If in_rep and out_rep are the same, \n",
    "    # simply return x as is\n",
    "    if in_rep == out_rep:\n",
    "        return str(x)\n",
    "    \n",
    "    # Now let's work on the general cases where \n",
    "    # one of the reps is 'dec'\n",
    "    elif in_rep in allowed and out_rep == 'dec':\n",
    "        mod = len(allowed[in_rep])\n",
    "        x = str(x)\n",
    "        new_x = 0\n",
    "        for i in range(len(x)):\n",
    "            new_x += (mod**i)*int(allowed[in_rep].index(x[len(x) - 1 - i]))\n",
    "        return str(new_x)\n",
    "    \n",
    "    elif in_rep == 'dec' and out_rep in allowed:\n",
    "        mod = len(allowed[out_rep])\n",
    "        new_x = ''\n",
    "        rem = int(x)\n",
    "        # Find representation\n",
    "        done = False\n",
    "        while not done:\n",
    "            q = rem // mod\n",
    "            r = rem % mod\n",
    "            new_x += str(allowed[out_rep][r]) \n",
    "            rem = q\n",
    "            if q == 0:\n",
    "                done = True\n",
    "        \n",
    "        # Reorder result and return as str\n",
    "        new_x = list(new_x)\n",
    "        new_x.reverse()\n",
    "        return ''.join(new_x)\n",
    "    \n",
    "    # Finally, to go from one non-dec system to another\n",
    "    # non-dec system, we can use the 'dec' system as\n",
    "    # an intermediate step\n",
    "    elif in_rep != 'dec' and out_rep != 'dec':\n",
    "        # Go from in_rep to 'dec'\n",
    "        dec_x = change_rep(x, in_rep, 'dec')\n",
    "        # Go from 'dec' to out_rep\n",
    "        return change_rep(dec_x, 'dec', out_rep)"
   ]
  },
  {
   "cell_type": "code",
   "execution_count": 2,
   "metadata": {},
   "outputs": [
    {
     "data": {
      "text/plain": [
       "'122'"
      ]
     },
     "execution_count": 2,
     "metadata": {},
     "output_type": "execute_result"
    }
   ],
   "source": [
    "change_rep('1111010', 'bin', 'dec')"
   ]
  },
  {
   "cell_type": "code",
   "execution_count": 3,
   "metadata": {},
   "outputs": [
    {
     "data": {
      "text/plain": [
       "'1111010'"
      ]
     },
     "execution_count": 3,
     "metadata": {},
     "output_type": "execute_result"
    }
   ],
   "source": [
    "change_rep('122', 'dec', 'bin')"
   ]
  },
  {
   "cell_type": "code",
   "execution_count": 4,
   "metadata": {},
   "outputs": [
    {
     "data": {
      "text/plain": [
       "'7A'"
      ]
     },
     "execution_count": 4,
     "metadata": {},
     "output_type": "execute_result"
    }
   ],
   "source": [
    "change_rep('122', 'dec', 'hex')"
   ]
  },
  {
   "cell_type": "code",
   "execution_count": 5,
   "metadata": {},
   "outputs": [
    {
     "data": {
      "text/plain": [
       "'122'"
      ]
     },
     "execution_count": 5,
     "metadata": {},
     "output_type": "execute_result"
    }
   ],
   "source": [
    "change_rep('7A', 'hex', 'dec')"
   ]
  },
  {
   "cell_type": "code",
   "execution_count": 6,
   "metadata": {},
   "outputs": [
    {
     "data": {
      "text/plain": [
       "'1111010'"
      ]
     },
     "execution_count": 6,
     "metadata": {},
     "output_type": "execute_result"
    }
   ],
   "source": [
    "change_rep('7A', 'hex', 'bin')"
   ]
  },
  {
   "cell_type": "code",
   "execution_count": 7,
   "metadata": {},
   "outputs": [
    {
     "data": {
      "text/plain": [
       "'7A'"
      ]
     },
     "execution_count": 7,
     "metadata": {},
     "output_type": "execute_result"
    }
   ],
   "source": [
    "change_rep('1111010', 'bin', 'hex')"
   ]
  },
  {
   "cell_type": "code",
   "execution_count": 8,
   "metadata": {},
   "outputs": [
    {
     "data": {
      "text/plain": [
       "True"
      ]
     },
     "execution_count": 8,
     "metadata": {},
     "output_type": "execute_result"
    }
   ],
   "source": [
    "122 == 0b1111010 == 0x7A"
   ]
  },
  {
   "cell_type": "markdown",
   "metadata": {},
   "source": [
    "2\\. Write a function that converts a 32 bit word into a single precision floating point (i.e. interprets the various bits as sign, mantissa and exponent)"
   ]
  },
  {
   "cell_type": "code",
   "execution_count": 9,
   "metadata": {},
   "outputs": [],
   "source": [
    "# Let's write the function\n",
    "def single_precision_to_float(s):\n",
    "    '''\n",
    "    Params:\n",
    "        s : str\n",
    "            String containing the 32-bit float\n",
    "            representation of a number.\n",
    "    Output:\n",
    "        Returns the number encoded by s.\n",
    "    '''\n",
    "    # Check that there are 32 bits\n",
    "    if not len(s) == 32:\n",
    "        print('Error: input string must be of length 32.')\n",
    "        return None\n",
    "    # Split string into list of bits\n",
    "    s = list(s)\n",
    "    # Get sign\n",
    "    sign = (-1)**int(s[0])\n",
    "    # Get exponent, we can use our previous function\n",
    "    exp = 2**(int(change_rep(''.join(s[1:9]), 'bin', 'dec'))-127)\n",
    "    # Get fraction\n",
    "    frac = 1 + sum([int(s[9+i])*(2**(-i-1)) for i in range(23)])\n",
    "    return sign * exp * frac"
   ]
  },
  {
   "cell_type": "code",
   "execution_count": 10,
   "metadata": {},
   "outputs": [
    {
     "data": {
      "text/plain": [
       "0.15625"
      ]
     },
     "execution_count": 10,
     "metadata": {},
     "output_type": "execute_result"
    }
   ],
   "source": [
    "single_precision_to_float('00111110001000000000000000000000')"
   ]
  },
  {
   "cell_type": "markdown",
   "metadata": {},
   "source": [
    "3\\. Write a program to determine the underflow and overflow limits (within a factor of 2) for python on your computer. \n",
    "\n",
    "**Tips**: define two variables inizialized to 1 and halve/double them enough time to exceed the under/over-flow limits  "
   ]
  },
  {
   "cell_type": "code",
   "execution_count": 21,
   "metadata": {},
   "outputs": [
    {
     "name": "stdout",
     "output_type": "stream",
     "text": [
      "Overflow limit reached for x = 8.98846567431158e+307\n",
      "Underflow limit reached for x = 5e-324\n"
     ]
    }
   ],
   "source": [
    "x_half = 1.\n",
    "x_doub = 1.\n",
    "overflow_chek = True\n",
    "underflow_check = True\n",
    "while overflow_chek or underflow_check:\n",
    "    if overflow_chek:\n",
    "        old_x_doub = x_doub\n",
    "        x_doub = x_doub * 2.0\n",
    "        if x_doub == float('inf'):\n",
    "            print('Overflow limit reached for x =',old_x_doub)\n",
    "            overflow_chek = False\n",
    "    if underflow_check:\n",
    "        old_x_half = x_half\n",
    "        x_half = x_half / 2\n",
    "        if x_half == 0:\n",
    "            print('Underflow limit reached for x =', old_x_half)\n",
    "            underflow_check = False"
   ]
  },
  {
   "cell_type": "markdown",
   "metadata": {},
   "source": [
    "4\\. Write a program to determine the machine precision\n",
    "\n",
    "**Tips**: define a new variable by adding a smaller and smaller value (proceeding similarly to prob. 2) to an original variable and check the point where the two are the same "
   ]
  },
  {
   "cell_type": "code",
   "execution_count": 22,
   "metadata": {},
   "outputs": [
    {
     "name": "stdout",
     "output_type": "stream",
     "text": [
      "Minimum precision reached for epsilon = 1.1102230246251565e-16\n"
     ]
    }
   ],
   "source": [
    "epsilon = 1\n",
    "og_x = 1\n",
    "precision_check = True\n",
    "while precision_check:\n",
    "    new_x = og_x + epsilon\n",
    "    if new_x == og_x:\n",
    "        print('Minimum precision reached for epsilon =',epsilon)\n",
    "        precision_check = False\n",
    "    else:\n",
    "        epsilon = epsilon / 2"
   ]
  },
  {
   "cell_type": "markdown",
   "metadata": {},
   "source": [
    "5\\. Write a function that takes in input three parameters $a$, $b$ and $c$ and prints out the two solutions to the quadratic equation $ax^2+bx+c=0$ using the standard formula:\n",
    "$$\n",
    "x=\\frac{-b\\pm\\sqrt{b^2-4ac}}{2a}\n",
    "$$\n",
    "\n",
    "(a) use the program to compute the solution for $a=0.001$, $b=1000$ and $c=0.001$\n",
    "\n",
    "(b) re-express the standard solution formula by multiplying top and bottom by $-b\\mp\\sqrt{b^2-4ac}$ and again find the solution for $a=0.001$, $b=1000$ and $c=0.001$. How does it compare with what previously obtained? Why?\n",
    "\n",
    "(c) write a function that compute the roots of a quadratic equation accurately in all cases"
   ]
  },
  {
   "cell_type": "code",
   "execution_count": 23,
   "metadata": {},
   "outputs": [],
   "source": [
    "# Let's write the function we need\n",
    "def quadratic_roots(a,b,c):\n",
    "    # Get delta\n",
    "    delta = ((b**2) - 4 * a * c)**(1/2)\n",
    "    # Get and return roots\n",
    "    r_plus = (-b + delta) / (2 * a)\n",
    "    r_minus = (-b - delta) / (2 * a)\n",
    "    return r_plus, r_minus"
   ]
  },
  {
   "cell_type": "code",
   "execution_count": 26,
   "metadata": {},
   "outputs": [
    {
     "name": "stdout",
     "output_type": "stream",
     "text": [
      "a) Roots for a=0.001, b=1000, c=0.001:\n",
      "-9.999894245993346e-07, -999999.999999\n"
     ]
    }
   ],
   "source": [
    "a, b, c = 0.001, 1000, 0.001\n",
    "r_1, r_2 = quadratic_roots(a,b,c)\n",
    "print('a) Roots for a=%s, b=%s, c=%s:' % (a,b,c))\n",
    "print('%s, %s' % (r_1, r_2))"
   ]
  },
  {
   "cell_type": "markdown",
   "metadata": {},
   "source": [
    "For b), our new formula is given by:\n",
    "\n",
    "$$\n",
    "x=\\frac{-b\\pm\\sqrt{b^2-4ac}}{2a} \\cdot \\frac{-b\\mp\\sqrt{b^2-4ac}}{-b\\mp\\sqrt{b^2-4ac}}\n",
    " = \\frac{b^2 - b^2+4ac}{2a \\cdot (-b\\mp\\sqrt{b^2-4ac})}\n",
    " = \\frac{2c}{-b\\mp\\sqrt{b^2-4ac}}\n",
    "$$"
   ]
  },
  {
   "cell_type": "code",
   "execution_count": 27,
   "metadata": {},
   "outputs": [],
   "source": [
    "# Define another way of calculating the roots\n",
    "def quadratic_roots_new(a,b,c):\n",
    "    # Get delta\n",
    "    delta = ((b**2) - 4 * a * c)**(1/2)\n",
    "    # Get roots and return them\n",
    "    r_1 = 2 * c / (-b - delta)\n",
    "    r_2 = 2 * c / (-b + delta)\n",
    "    return r_1, r_2"
   ]
  },
  {
   "cell_type": "code",
   "execution_count": 28,
   "metadata": {},
   "outputs": [
    {
     "name": "stdout",
     "output_type": "stream",
     "text": [
      "b) Roots for a=0.001, b=1000, c=0.001 with the new formula:\n",
      "-1.000000000001e-06, -1000010.5755125057\n"
     ]
    }
   ],
   "source": [
    "a, b, c = 0.001, 1000, 0.001\n",
    "r_1, r_2 = quadratic_roots_new(a,b,c)\n",
    "print('b) Roots for a=%s, b=%s, c=%s with the new formula:' % (a,b,c))\n",
    "print('%s, %s' % (r_1, r_2))"
   ]
  },
  {
   "cell_type": "code",
   "execution_count": 29,
   "metadata": {},
   "outputs": [],
   "source": [
    "# For c), let's try to come up with an iterative \n",
    "# method for finding the roots\n",
    "def quadratic_roots_iter(a,b,c,n=50):\n",
    "    # Define lambda functions for f and f'\n",
    "    f = lambda x: a*(x**2) + b*x + c\n",
    "    f_prime = lambda x: 2*a*x + b\n",
    "    # Get initial guesses\n",
    "    r_1, r_2 = quadratic_roots(a,b,c)\n",
    "    # For the number of iters, improve the \n",
    "    # estimation\n",
    "    for i in range(n):\n",
    "        r_1 = r_1 - f(r_1)/f_prime(r_1)\n",
    "        r_2 = r_2 - f(r_2)/f_prime(r_2)\n",
    "    \n",
    "    return r_1, r_2"
   ]
  },
  {
   "cell_type": "code",
   "execution_count": 35,
   "metadata": {},
   "outputs": [
    {
     "name": "stdout",
     "output_type": "stream",
     "text": [
      "c) Roots for a=0.001, b=1000, c=0.001 with Newton's method:\n",
      "-1.000000000001e-06, -999999.9999989999\n"
     ]
    }
   ],
   "source": [
    "a, b, c = 0.001, 1000, 0.001\n",
    "r_1, r_2 = quadratic_roots_iter(a,b,c)\n",
    "print('c) Roots for a=%s, b=%s, c=%s with Newton\\'s method:' % (a,b,c))\n",
    "print('%s, %s' % (r_1, r_2))"
   ]
  },
  {
   "cell_type": "markdown",
   "metadata": {},
   "source": [
    "6\\. Write a program that implements the function $f(x)=x(x−1)$\n",
    "\n",
    "(a) Calculate the derivative of the function at the point $x = 1$ using the derivative definition:\n",
    "\n",
    "$$\n",
    "\\frac{{\\rm d}f}{{\\rm d}x} = \\lim_{\\delta\\to0} \\frac{f(x+\\delta)-f(x)}{\\delta}\n",
    "$$\n",
    "\n",
    "with $\\delta = 10^{−2}$. Calculate the true value of the same derivative analytically and compare with the answer your program gives. The two will not agree perfectly. Why not?\n",
    "\n",
    "(b) Repeat the calculation for $\\delta = 10^{−4}, 10^{−6}, 10^{−8}, 10^{−10}, 10^{−12}$ and $10^{−14}$. How does the accuracy scales with $\\delta$?"
   ]
  },
  {
   "cell_type": "markdown",
   "metadata": {},
   "source": [
    "7\\. Consider the integral of the semicircle of radius 1:\n",
    "$$\n",
    "I=\\int_{-1}^{1} \\sqrt(1-x^2) {\\rm d}x\n",
    "$$\n",
    "which it's known to be $I=\\frac{\\pi}{2}=1.57079632679...$.\n",
    "Alternatively we can use the Riemann definition of the integral:\n",
    "$$\n",
    "I=\\lim_{N\\to\\infty} \\sum_{k=1}^{N} h y_k \n",
    "$$\n",
    "\n",
    "with $h=2/N$ the width of each of the $N$ slices the domain is divided into and where\n",
    "$y_k$ is the value of the function at the $k-$th slice.\n",
    "\n",
    "(a) Write a programe to compute the integral with $N=100$. How does the result compares to the true value?\n",
    "\n",
    "(b) How much can $N$ be increased if the computation needs to be run in less than a second? What is the gain in running it for 1 minute? \n"
   ]
  },
  {
   "cell_type": "code",
   "execution_count": null,
   "metadata": {},
   "outputs": [],
   "source": []
  }
 ],
 "metadata": {
  "kernelspec": {
   "display_name": "Python 3",
   "language": "python",
   "name": "python3"
  },
  "language_info": {
   "codemirror_mode": {
    "name": "ipython",
    "version": 3
   },
   "file_extension": ".py",
   "mimetype": "text/x-python",
   "name": "python",
   "nbconvert_exporter": "python",
   "pygments_lexer": "ipython3",
   "version": "3.8.8"
  }
 },
 "nbformat": 4,
 "nbformat_minor": 2
}
