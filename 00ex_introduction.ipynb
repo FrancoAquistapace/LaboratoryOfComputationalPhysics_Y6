{
 "cells": [
  {
   "cell_type": "markdown",
   "metadata": {},
   "source": [
    "1. The MickeyMouse problem\n",
    "\n",
    "a) Write a program that prints the numbers from 1 to 100. But for multiples of 3 print `Mickey` instead of the corresponding number and for the multiples of 5 print `Mouse`. For numbers which are multiples of both three and five print `MickeyMouse`\n",
    "\n",
    "b) Put the result in a tuple and substitute `Mickey` with `Donald` and `Mouse` with `Duck`"
   ]
  },
  {
   "cell_type": "code",
   "execution_count": 26,
   "metadata": {},
   "outputs": [
    {
     "name": "stdout",
     "output_type": "stream",
     "text": [
      "Initial results:\n",
      "[1, 2, 'Mickey', 4, 'Mouse', 'Mickey', 7, 8, 'Mickey', 'Mouse', 11, 'Mickey', 13, 14, 'MickeyMouse', 16, 17, 'Mickey', 19, 'Mouse', 'Mickey', 22, 23, 'Mickey', 'Mouse', 26, 'Mickey', 28, 29, 'MickeyMouse', 31, 32, 'Mickey', 34, 'Mouse', 'Mickey', 37, 38, 'Mickey', 'Mouse', 41, 'Mickey', 43, 44, 'MickeyMouse', 46, 47, 'Mickey', 49, 'Mouse', 'Mickey', 52, 53, 'Mickey', 'Mouse', 56, 'Mickey', 58, 59, 'MickeyMouse', 61, 62, 'Mickey', 64, 'Mouse', 'Mickey', 67, 68, 'Mickey', 'Mouse', 71, 'Mickey', 73, 74, 'MickeyMouse', 76, 77, 'Mickey', 79, 'Mouse', 'Mickey', 82, 83, 'Mickey', 'Mouse', 86, 'Mickey', 88, 89, 'MickeyMouse', 91, 92, 'Mickey', 94, 'Mouse', 'Mickey', 97, 98, 'Mickey', 'Mouse']\n",
      "\n",
      "Final results:\n",
      "(1, 2, 'Donald', 4, 'Duck', 'Donald', 7, 8, 'Donald', 'Duck', 11, 'Donald', 13, 14, 'DonaldDuck', 16, 17, 'Donald', 19, 'Duck', 'Donald', 22, 23, 'Donald', 'Duck', 26, 'Donald', 28, 29, 'DonaldDuck', 31, 32, 'Donald', 34, 'Duck', 'Donald', 37, 38, 'Donald', 'Duck', 41, 'Donald', 43, 44, 'DonaldDuck', 46, 47, 'Donald', 49, 'Duck', 'Donald', 52, 53, 'Donald', 'Duck', 56, 'Donald', 58, 59, 'DonaldDuck', 61, 62, 'Donald', 64, 'Duck', 'Donald', 67, 68, 'Donald', 'Duck', 71, 'Donald', 73, 74, 'DonaldDuck', 76, 77, 'Donald', 79, 'Duck', 'Donald', 82, 83, 'Donald', 'Duck', 86, 'Donald', 88, 89, 'DonaldDuck', 91, 92, 'Donald', 94, 'Duck', 'Donald', 97, 98, 'Donald', 'Duck')\n"
     ]
    }
   ],
   "source": [
    "# Let's first solve a)\n",
    "\n",
    "# We can write a function that decides what is going to be printed\n",
    "def get_MickeyMouse_num(n):\n",
    "    '''\n",
    "    Params:\n",
    "        n : int\n",
    "            Integer that needs to be analyzed.\n",
    "    Output:\n",
    "        Returns \"Mickey\" if only n % 3 = 0, \"Mouse\"\n",
    "        if only n % 5 = 0, \"MickeyMouse\" if both n % 5 = 0\n",
    "        and n % 3 = 0, and else returns n.\n",
    "    '''\n",
    "    if n % 3 == 0 and n % 5 != 0:\n",
    "        return 'Mickey'\n",
    "    elif n % 3 != 0 and n % 5 == 0:\n",
    "        return 'Mouse'\n",
    "    elif n % 3 == 0 and n % 5 == 0:\n",
    "        return 'MickeyMouse'\n",
    "    else:\n",
    "        return n\n",
    "\n",
    "# Let's define the list of numbers to be analayzed\n",
    "# and run the function on them\n",
    "dom = [x+1 for x in range(100)]\n",
    "# Define an empty list for results\n",
    "res = []\n",
    "# Get results\n",
    "for d in dom:\n",
    "    res.append(get_MickeyMouse_num(d))\n",
    "# Print results\n",
    "print('Initial results:')\n",
    "print(res)\n",
    "\n",
    "# Now let's go through exercise b)\n",
    "# Transform results into a tuple\n",
    "res = tuple(res)\n",
    "\n",
    "# Define substitution function\n",
    "def MickeyMouse_to_DonaldDuck(s):\n",
    "    '''\n",
    "    Params:\n",
    "        s : int or str\n",
    "            Value to be checked.\n",
    "    Output:\n",
    "        Returns a new value depending on the following \n",
    "        conditions:\n",
    "        - If 'Mickey' is in s, then it is changed to 'Donald'.\n",
    "        - If 'Mouse' is in s, then it is changed to 'Duck'.\n",
    "        - Else, the same value s is returned unchanged.\n",
    "    '''\n",
    "    # If the type of s is int, then just return it as is\n",
    "    if type(s) == type(1):\n",
    "        return s\n",
    "    # If s is a string, proceed\n",
    "    new_s = s\n",
    "    if 'Mickey' in s:\n",
    "        new_s = new_s.replace('Mickey', 'Donald')\n",
    "    if 'Mouse' in s:\n",
    "        new_s = new_s.replace('Mouse', 'Duck')\n",
    "    return new_s\n",
    "\n",
    "# Now let's get and print the new results\n",
    "new_res = []\n",
    "for r in res:\n",
    "    new_res.append(MickeyMouse_to_DonaldDuck(r))\n",
    "new_res = tuple(new_res)\n",
    "print('\\nFinal results:')\n",
    "print(new_res)"
   ]
  },
  {
   "cell_type": "markdown",
   "metadata": {},
   "source": [
    "2\\. The swap function\n",
    "\n",
    "Write a function that swap the values of two input variables x and y (whatever the type). Try to do that also without a temporary variable"
   ]
  },
  {
   "cell_type": "code",
   "execution_count": 28,
   "metadata": {},
   "outputs": [
    {
     "name": "stdout",
     "output_type": "stream",
     "text": [
      "Initial values:\n",
      " x = 1, y = 5\n",
      "Swapped values:\n",
      " x = 5, y = 1\n"
     ]
    }
   ],
   "source": [
    "# Define swapping function\n",
    "def swap_xy(x,y):\n",
    "    '''\n",
    "    Params:\n",
    "        x, y : objs\n",
    "            Variables to be swapped.\n",
    "    Output:\n",
    "        Swaps the values x and y.\n",
    "    '''\n",
    "    return y, x\n",
    "\n",
    "# Let's test it\n",
    "x, y = 1, 5\n",
    "print('Initial values:\\n x = %s, y = %s' % (x, y))\n",
    "\n",
    "# Swap values and print\n",
    "x, y = swap_xy(x,y)\n",
    "print('Swapped values:\\n x = %s, y = %s' % (x, y))"
   ]
  },
  {
   "cell_type": "code",
   "execution_count": 29,
   "metadata": {},
   "outputs": [
    {
     "name": "stdout",
     "output_type": "stream",
     "text": [
      "Initial values:\n",
      " x = 1, y = 5\n",
      "Swapped values:\n",
      " x = 5, y = 1\n"
     ]
    }
   ],
   "source": [
    "# Notice we can do this without a function\n",
    "x, y = 1, 5\n",
    "print('Initial values:\\n x = %s, y = %s' % (x, y))\n",
    "\n",
    "# Swap values and print\n",
    "x, y = y, x\n",
    "print('Swapped values:\\n x = %s, y = %s' % (x, y))"
   ]
  },
  {
   "cell_type": "markdown",
   "metadata": {},
   "source": [
    "3\\. Computing the distance\n",
    "\n",
    "Write a function that calculates and returns the euclidean distance between two points *u* and *v*, where *u* and *v* are both 2-tuples *(x,y)*. For example, if *u=(3,0)* and *v=(0,4)*, the function should return 5"
   ]
  },
  {
   "cell_type": "code",
   "execution_count": 31,
   "metadata": {},
   "outputs": [],
   "source": [
    "# Define the function\n",
    "def Euclidean_dist_2d(u, v):\n",
    "    '''\n",
    "    Params:\n",
    "        u, v : 2-tuples \n",
    "            Tuples in 2 dimensions for which the Euclidean\n",
    "            distance will be calculated.\n",
    "    Output:\n",
    "        Reutrns the Euclidean distance between u and v, defined\n",
    "        as:\n",
    "            dist(u, v) = sqrt((u_1 - v_1)^2 + (u_2 - v_2)^2)\n",
    "    '''\n",
    "    d_square = (u[0] - v[0])**2 + (u[1] - v[1])**2\n",
    "    return pow(d_square,1/2)\n",
    "\n",
    "# Define testing function\n",
    "def test_Euclidean(u,v):\n",
    "    '''\n",
    "    Params:\n",
    "        u, v : 2-tuples \n",
    "            Tuples in 2 dimensions for which the Euclidean\n",
    "            distance will be tested.\n",
    "    Output:\n",
    "        Prints the vectors u and v, and the Euclidean distance \n",
    "        between them, defined as:\n",
    "            dist(u, v) = sqrt((u_1 - v_1)^2 + (u_2 - v_2)^2)\n",
    "    '''\n",
    "    # Print u and v\n",
    "    print('u =',u)\n",
    "    print('v =',v)\n",
    "    print('dist(u,v) = %f' % Euclidean_dist_2d(u,v))"
   ]
  },
  {
   "cell_type": "code",
   "execution_count": 37,
   "metadata": {},
   "outputs": [
    {
     "name": "stdout",
     "output_type": "stream",
     "text": [
      "u = (1, 0)\n",
      "v = (1, 1)\n",
      "dist(u,v) = 1.000000\n",
      "\n",
      "u = (3, 0)\n",
      "v = (0, 4)\n",
      "dist(u,v) = 5.000000\n",
      "\n",
      "u = (0, -1)\n",
      "v = (0, 1)\n",
      "dist(u,v) = 2.000000\n"
     ]
    }
   ],
   "source": [
    "# Test the function on some examples\n",
    "u_1, v_1 = (1,0), (1,1)\n",
    "test_Euclidean(u_1,v_1)\n",
    "print()\n",
    "u_2, v_2 = (3,0), (0,4)\n",
    "test_Euclidean(u_2, v_2)\n",
    "print()\n",
    "u_3, v_3 = (0,-1), (0,1)\n",
    "test_Euclidean(u_3, v_3)"
   ]
  },
  {
   "cell_type": "markdown",
   "metadata": {},
   "source": [
    "4\\. Counting letters\n",
    "\n",
    "Write a program to calculate the number of times each character occurs in a given string *s*. Ignore differneces in capitalization"
   ]
  },
  {
   "cell_type": "code",
   "execution_count": 38,
   "metadata": {},
   "outputs": [],
   "source": [
    "s=\"Write a program that prints the numbers from 1 to 100. \\\n",
    "But for multiples of three print Mickey instead of the number and for the multiples of five print Mouse. \\\n",
    "For numbers which are multiples of both three and five print MickeyMouse\""
   ]
  },
  {
   "cell_type": "code",
   "execution_count": 57,
   "metadata": {},
   "outputs": [
    {
     "name": "stdout",
     "output_type": "stream",
     "text": [
      "{'.': 2, '0': 2, '1': 2, 'a': 7, 'b': 5, 'c': 3, 'd': 3, 'e': 22, 'f': 10, 'g': 1, 'h': 9, 'i': 14, 'k': 2, 'l': 6, 'm': 12, 'n': 10, 'o': 13, 'p': 8, 'r': 17, 's': 9, 't': 19, 'u': 9, 'v': 2, 'w': 2, 'y': 2}\n"
     ]
    }
   ],
   "source": [
    "# Get set of unique chars\n",
    "unique_chars = list(set(list(s.lower().replace(' ',''))))\n",
    "unique_chars.sort()\n",
    "\n",
    "# Now let's count their appearances in the init string\n",
    "char_counts = {}\n",
    "for c in unique_chars:\n",
    "    c_count = 0\n",
    "    for i in s:\n",
    "        if i.lower() == c:\n",
    "            c_count += 1\n",
    "    char_counts[c] = c_count\n",
    "print(char_counts)"
   ]
  },
  {
   "cell_type": "markdown",
   "metadata": {},
   "source": [
    "5\\. Isolating the unique\n",
    "\n",
    "Write a function that determines and count the unique numbers in the list *l*"
   ]
  },
  {
   "cell_type": "code",
   "execution_count": 58,
   "metadata": {},
   "outputs": [],
   "source": [
    "l = [36, 45, 58, 3, 74, 96, 64, 45, 31, 10, 24, 19, 33, 86, 99, 18, 63, 70, 85,\n",
    " 85, 63, 47, 56, 42, 70, 84, 88, 55, 20, 54, 8, 56, 51, 79, 81, 57, 37, 91,\n",
    " 1, 84, 84, 36, 66, 9, 89, 50, 42, 91, 50, 95, 90, 98, 39, 16, 82, 31, 92, 41,\n",
    " 45, 30, 66, 70, 34, 85, 94, 5, 3, 36, 72, 91, 84, 34, 87, 75, 53, 51, 20, 89, 51, 20]"
   ]
  },
  {
   "cell_type": "code",
   "execution_count": 63,
   "metadata": {},
   "outputs": [],
   "source": [
    "# Define our function\n",
    "def find_and_count_uniques(ls):\n",
    "    '''\n",
    "    Params:\n",
    "        ls : array-like obj\n",
    "            Array of numbers.\n",
    "    Output:\n",
    "        Returns the unique numbers in ls and their\n",
    "        amount of appearances.\n",
    "    '''\n",
    "    # Get unique nums\n",
    "    unique_nums = list(set(ls))\n",
    "    unique_nums.sort()\n",
    "    # Init empty dict\n",
    "    num_counts = {}\n",
    "    for n in unique_nums:\n",
    "        n_count = 0\n",
    "        for i in ls:\n",
    "            if i == n:\n",
    "                n_count += 1\n",
    "        num_counts[n] = n_count\n",
    "    return num_counts"
   ]
  },
  {
   "cell_type": "code",
   "execution_count": 65,
   "metadata": {},
   "outputs": [
    {
     "name": "stdout",
     "output_type": "stream",
     "text": [
      "{1: 1, 3: 2, 5: 1, 8: 1, 9: 1, 10: 1, 16: 1, 18: 1, 19: 1, 20: 3, 24: 1, 30: 1, 31: 2, 33: 1, 34: 2, 36: 3, 37: 1, 39: 1, 41: 1, 42: 2, 45: 3, 47: 1, 50: 2, 51: 3, 53: 1, 54: 1, 55: 1, 56: 2, 57: 1, 58: 1, 63: 2, 64: 1, 66: 2, 70: 3, 72: 1, 74: 1, 75: 1, 79: 1, 81: 1, 82: 1, 84: 4, 85: 3, 86: 1, 87: 1, 88: 1, 89: 2, 90: 1, 91: 3, 92: 1, 94: 1, 95: 1, 96: 1, 98: 1, 99: 1}\n"
     ]
    }
   ],
   "source": [
    "# Run the function\n",
    "print(find_and_count_uniques(l))"
   ]
  },
  {
   "cell_type": "markdown",
   "metadata": {},
   "source": [
    "6\\. Combination of functions\n",
    "\n",
    "Write two functions - one that returns the square of a number, and one that returns the cube. Now write a third function that returns the number raised to the 6th power using the two previous functions."
   ]
  },
  {
   "cell_type": "code",
   "execution_count": 69,
   "metadata": {},
   "outputs": [],
   "source": [
    "# Write square and cube functions\n",
    "def square(x):\n",
    "    return x**2\n",
    "def cube(x):\n",
    "    return x**3\n",
    "# Write nwe composite function\n",
    "def pow_6(x):\n",
    "    return cube(square(x))"
   ]
  },
  {
   "cell_type": "code",
   "execution_count": 78,
   "metadata": {},
   "outputs": [
    {
     "name": "stdout",
     "output_type": "stream",
     "text": [
      "n = 2\n",
      "n^2 = 4\n",
      "n^3 = 8\n",
      "n^6 = 64\n"
     ]
    }
   ],
   "source": [
    "# Test our functions\n",
    "n = 2\n",
    "print('n =',n)\n",
    "print('n^2 =',square(n))\n",
    "print('n^3 =',cube(n))\n",
    "print('n^6 =',pow_6(n))"
   ]
  },
  {
   "cell_type": "markdown",
   "metadata": {},
   "source": [
    "7\\. Cubes\n",
    "\n",
    "Create a list of the cubes of x for x in *[0, 10]* using:\n",
    "\n",
    "a) a for loop\n",
    "\n",
    "b) a list comprehension"
   ]
  },
  {
   "cell_type": "code",
   "execution_count": 79,
   "metadata": {},
   "outputs": [
    {
     "name": "stdout",
     "output_type": "stream",
     "text": [
      "[0, 1, 8, 27, 64, 125, 216, 343, 512, 729, 1000]\n"
     ]
    }
   ],
   "source": [
    "# Let's first solve a)\n",
    "# Define list for results\n",
    "cube_list = []\n",
    "for x in range(11):\n",
    "    cube_list.append(x**3)\n",
    "# Show results\n",
    "print(cube_list)"
   ]
  },
  {
   "cell_type": "code",
   "execution_count": 81,
   "metadata": {},
   "outputs": [
    {
     "name": "stdout",
     "output_type": "stream",
     "text": [
      "[0, 1, 8, 27, 64, 125, 216, 343, 512, 729, 1000]\n"
     ]
    }
   ],
   "source": [
    "# Now we'll solve b)\n",
    "# Directly define results with list comprehension\n",
    "cube_list_2 = [x**3 for x in range(11)]\n",
    "# Show results\n",
    "print(cube_list_2)"
   ]
  },
  {
   "cell_type": "markdown",
   "metadata": {},
   "source": [
    "8\\. Nested list comprehension\n",
    "\n",
    "A Pythagorean triple is an integer solution to the Pythagorean theorem $a^2+b^2=c^2$. The first Pythagorean triple is (3,4,5). Find and put in a tuple all unique Pythagorean triples for the positive integers a, b and c less than 100."
   ]
  },
  {
   "cell_type": "markdown",
   "metadata": {},
   "source": [
    "9\\. Normalization\n",
    "\n",
    "Write a function that takes a tuple of numbers and returns it with the entries normalized to one"
   ]
  },
  {
   "cell_type": "code",
   "execution_count": null,
   "metadata": {},
   "outputs": [],
   "source": []
  }
 ],
 "metadata": {
  "kernelspec": {
   "display_name": "Python 3",
   "language": "python",
   "name": "python3"
  },
  "language_info": {
   "codemirror_mode": {
    "name": "ipython",
    "version": 3
   },
   "file_extension": ".py",
   "mimetype": "text/x-python",
   "name": "python",
   "nbconvert_exporter": "python",
   "pygments_lexer": "ipython3",
   "version": "3.8.8"
  }
 },
 "nbformat": 4,
 "nbformat_minor": 2
}
